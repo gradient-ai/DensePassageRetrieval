{
 "cells": [
  {
   "cell_type": "markdown",
   "source": [
    "# Install packages and setup the notebook\n",
    "\n",
    "The simpletransformers library provides you the option of defining configurations either using dataclass or python dictionaries. We will be using the dataclass: RetrievalArgs for the purpose of this blog. Feel free to check dictionary option as well from this [source](https://simpletransformers.ai/docs/usage/#task-specific-models)."
   ],
   "metadata": {}
  },
  {
   "cell_type": "code",
   "execution_count": null,
   "source": [
    "!pip install simpletransformers"
   ],
   "outputs": [],
   "metadata": {}
  },
  {
   "cell_type": "code",
   "execution_count": null,
   "source": [
    "from simpletransformers.retrieval import RetrievalModel, RetrievalArgs\n",
    "import torch\n",
    "\n",
    "### loading pre-trained weights of passage and question encoder ###\n",
    "Eq = \"bert-base-uncased\"\n",
    "Ep = \"bert-base-uncased\"\n",
    "\n",
    "model_args = RetrievalArgs()\n",
    "#model_args.retrieve_n_docs\n",
    "#model_args.hard_negatives\n",
    "#model_args.max_seq_length\n",
    "#model_args.num_train_epochs\n",
    "#model_args.train_batch_size\n",
    "#model_args.learning_rate"
   ],
   "outputs": [],
   "metadata": {}
  },
  {
   "cell_type": "markdown",
   "source": [
    "## Load our dataset\n",
    "For simplicity purposes, we will be manually defining some data points"
   ],
   "metadata": {}
  },
  {
   "cell_type": "code",
   "execution_count": null,
   "source": [
    "import pandas as pd\n",
    "\n",
    "train_data = [\n",
    "    {\n",
    "        \"query_text\": \"Who is the protaganist of Dune?\",\n",
    "        \"gold_passage\": 'Dune is set in the distant future amidst a feudal interstellar society in which various noble houses control planetary fiefs. It tells the story of young Paul Atreides, whose family accepts the stewardship of the planet Arrakis. While the planet is an inhospitable and sparsely populated desert wasteland, it is the only source of melange, or \"spice\", a drug that extends life and enhances mental abilities. Melange is also necessary for space navigation, which requires a kind of multidimensional awareness and foresight that only the drug provides. As melange can only be produced on Arrakis, control of the planet is a coveted and dangerous undertaking.',\n",
    "    },\n",
    "    {\n",
    "        \"query_text\": \"Who is the author of Dune?\",\n",
    "        \"gold_passage\": \"Dune is a 1965 science fiction novel by American author Frank Herbert, originally published as two separate serials in Analog magazine.\",\n",
    "    }\n",
    "    ...\n",
    "]\n",
    "\n",
    "train = pd.DataFrame(\n",
    "    train_data\n",
    ")"
   ],
   "outputs": [],
   "metadata": {}
  },
  {
   "cell_type": "code",
   "execution_count": null,
   "source": [
    "cuda_available = torch.cuda.is_available()\n",
    "\n",
    "model = RetrievalModel(\n",
    "    model_type = \"dpr\",\n",
    "    context_encoder_name = Ep,\n",
    "    query_encoder_name = Eq,\n",
    "    args = model_args,\n",
    "    use_cuda = cuda_available\n",
    ")\n",
    "\n",
    "model.train_model(train, eval_data = eval, \\\n",
    "                output_dir = 'model/', \\\n",
    "                show_running_loss = True)\n",
    "\n",
    "model.eval_model(test, verbose=True)"
   ],
   "outputs": [],
   "metadata": {}
  },
  {
   "cell_type": "markdown",
   "source": [
    "## Inferencing with trained DPR model"
   ],
   "metadata": {}
  },
  {
   "cell_type": "code",
   "execution_count": null,
   "source": [
    "questions = [\n",
    "    'What year did Dune release?'\n",
    "]\n",
    "\n",
    "predicted_passages, _, _, _ = model.predict(questions, retrieve_n_docs=2)"
   ],
   "outputs": [],
   "metadata": {}
  }
 ],
 "metadata": {
  "orig_nbformat": 4,
  "language_info": {
   "name": "python"
  }
 },
 "nbformat": 4,
 "nbformat_minor": 2
}